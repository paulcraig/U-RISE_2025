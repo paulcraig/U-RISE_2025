{
 "cells": [
  {
   "cell_type": "markdown",
   "id": "89ae66cb-f067-47fa-9c5f-1a921751a800",
   "metadata": {},
   "source": [
    "# PubChemPy for the U-RISE\n",
    "This notebooks is designed to introduced you to PubChemPy, a library for working with [PubChem](https://www.example.com) resource. To use pubchempy, you'll need to either use the command\n",
    "\n",
    "```pip install pubchempy```\n",
    "\n",
    "on your command line or use the command\n",
    "\n",
    "```!pip install pubchempy```\n",
    "\n",
    "in the first coding cell in this notebook."
   ]
  },
  {
   "cell_type": "code",
   "execution_count": null,
   "id": "1c05cb04-7272-4231-b924-e1c5429a0f80",
   "metadata": {},
   "outputs": [],
   "source": [
    "!pip install pubchempy"
   ]
  },
  {
   "cell_type": "markdown",
   "id": "ccfff721-cdf4-4520-b36b-848627e50fd0",
   "metadata": {},
   "source": [
    "It's not enough to have it installed on your computer. You need to tell the Jupyter notebook to access the library."
   ]
  },
  {
   "cell_type": "code",
   "execution_count": 2,
   "id": "8e9863c0-5311-4ed8-9818-3ddb589789a7",
   "metadata": {},
   "outputs": [],
   "source": [
    "import pubchempy as pcp"
   ]
  },
  {
   "cell_type": "markdown",
   "id": "374df2ac-2bcb-4a16-9071-904a670a6955",
   "metadata": {},
   "source": [
    "We are just going to look at a few things that you can do with PubChemPy, which accesses the [PubChem database](https://pubchem.ncbi.nlm.nih.gov/). We'll learn\n",
    "1. How to access a molecule using its chemical ID#.\n",
    "2. How to access a molecule by name\n",
    "3. Some of the things we can learn about the molecule once we have its chemical ID#\n",
    "4. How to visualize the molecule\n",
    "\n",
    "We'll start looking at a molecule called NAD+ that I worked with almost every day in graduate school. It looks like this and its compound ID# is 5892.\n",
    "\n",
    "![2D image of NAD+](images/NAD.png \"The 2D structure of redox cofactor NAD+\")"
   ]
  },
  {
   "cell_type": "code",
   "execution_count": 10,
   "id": "187eb77f-3a32-4b2d-8143-0e2493207a87",
   "metadata": {},
   "outputs": [],
   "source": [
    "molecule = pcp.Compound.from_cid()"
   ]
  },
  {
   "cell_type": "code",
   "execution_count": 4,
   "id": "ab60f01e-c868-477a-a21e-ebf029018aa5",
   "metadata": {},
   "outputs": [
    {
     "name": "stdout",
     "output_type": "stream",
     "text": [
      "663.4\n"
     ]
    }
   ],
   "source": [
    "print(molecule.molecular_weight)"
   ]
  },
  {
   "cell_type": "code",
   "execution_count": 8,
   "id": "43125c7e-712d-48c8-9cc2-103d2ddce541",
   "metadata": {},
   "outputs": [
    {
     "data": {
      "text/plain": [
       "[Compound(16078)]"
      ]
     },
     "execution_count": 8,
     "metadata": {},
     "output_type": "execute_result"
    }
   ],
   "source": [
    "pcp.get_compounds('THC', 'name', record_type='3d')"
   ]
  },
  {
   "cell_type": "code",
   "execution_count": 9,
   "id": "1a4139b3-8bc8-454d-a217-a9af03de8328",
   "metadata": {},
   "outputs": [
    {
     "name": "stdout",
     "output_type": "stream",
     "text": [
      "(6aR,10aR)-6,6,9-trimethyl-3-pentyl-6a,7,8,10a-tetrahydrobenzo[c]chromen-1-ol\n",
      "314.5\n",
      "C21H30O2\n",
      "['Dronabinol', 'TETRAHYDROCANNABINOL', 'Marinol', 'delta9-Tetrahydrocannabinol', 'delta9-THC', 'delta-9-tetrahydrocannabinol', 'Deltanyne', 'Abbott 40566', 'delta-9-THC', '1972-08-3', 'delta(9)-THC', 'Dronabinolum', 'THC', 'delta1-THC', 'Namisol', 'delta(1)-Tetrahydrocannabinol', 'delta(sup 1)-Thc', 'delta(sup 9)-Thc', 'QCD 84924', 'SP 104', 'delta(9)-Tetrahydrocannabinol', '1-trans-delta9-Tetrahydrocannabinol', '1-trans-delta-9-Tetrahydrocannabinol', 'QCD-84924', 'Syndros', '(-)-delta9-trans-Tetrahydrocannabinol', 'Dronabinolum [Latin]', '9-tetrahydrocannabinol', 'delta(9)-Tetrahydrocannibinol', 'delta1-Tetrahydrocannabinol', 'delta(sup 1)-Tetrahydrocannabinol', 'delta(sup 9)-Tetrahydrocannabinol', 'L-delta1-trans-Tetrahydrocannabinol', '.DELTA.9-Tetrahydrocannabinol', 'Cannabinol, delta1-tetrahydro-', 'CCRIS 4726', 'CHEBI:66964', '.DELTA.1-THC', '.DELTA.9-THC', '3-Pentyl-6,6,9-trimethyl-6a,7,8,10a-tetrahydro-6H-dibenzo(b,d)pyran-1-ol', '(l)-delta(sup 1)-Tetrahydrocannabinol', 'NSC-134454', 'Tetrahydrocannabinols (-)-delta1-3,4-trans-form', 'ABBOTT-40566', 'DTXSID6021327', '(-)-delta9-Tetrahydrocannabinol', '1-trans-delta(sup 9)-Tetrahydrocannabinol', 'HSDB 6471', 'J882F', 'Cannabinol, 1-trans-delta(sup 9)-tetrahydro-', '(6aR,10aR)-6,6,9-trimethyl-3-pentyl-6a,7,8,10a-tetrahydro-6H-benzo[c]chromen-1-ol', 'SP-104', '6465-30-1', 'CHEMBL465', '7J8897W37S', 'NSC 134454', '(-)-delta(sup 1)-3,4-trans-Tetrahydrocannabinol', 'delta 9-Tetrahydrocannabinol', 'delta-9 Tetrahydrocannabinol', '(6aR,10aR)-6,6,9-trimethyl-3-pentyl-6a,7,8,10a-tetrahydrobenzo[c]chromen-1-ol', '.delta.-9-tetrahydrocannabinol', '6H-Dibenzo(b,d)pyran-1-ol, 6a,7,8,10a-tetrahydro-6,6,9-trimethyl-3-pentyl-, (6aR-trans)-', 'DTXCID101327', 'UNII-7J8897W37S', 'Tetrahydro-6,6,9-trimethyl-3-pentyl-6H-dibenzo(b,d)pyran-1-ol', '6,6,9-Trimethyl-3-pentyl-6a,7,8,10a-tetrahydro-6H-benzo[c]chromen-1-ol', '6,6,9-Trimethyl-3-pentyl-7,8,9,10-tetrahydro-6H-dibenzo(b,d)pyran-1-ol', 'trans-6a,7,8,10a-Tetrahydro-6,6,9-trimethyl-3-pentyl-6H-dibenzo(b,d)pyran-1-ol', 'NSC134454', '6H-Dibenzo(b,d)pyran-1-ol, 6a,7,8,10a-tetrahydro-6,6,9-trimethyl-3-pentyl-, (6aR,10aR)-', 'Dronabinolum (Latin)', 'delta(1)-THC', 'TETRAHYDROCANNABINOL, DELTA-9 TRANS', 'Tetrahydrocannabinols (-)-trans-.delta.9-form', 'DRONABINOL (MART.)', 'DRONABINOL [MART.]', '(6aR,10aR)-6a,7,8,10a-Tetrahydro-6,6,9-trimethyl-3-pentyl-6H-dibenzo(b,d)pyran-1-ol', '6H-Dibenzo(b,d)pyran-1-ol, 6a,7,8,10a-tetrahydro-6,6,9-trimethyl-3-pentyl-, trans-', '9-ene-Tetrahydrocannabinol', 'Dronabinol (USAN:USP:INN)', 'Dronabinol [USAN:USP:INN]', '(-)-.DELTA.9-THC', 'Compassia', 'DRONABINOL (USP MONOGRAPH)', 'DRONABINOL [USP MONOGRAPH]', 'Relivar', '(L)-.delta.1-Tetrahydrocannabinol', '(-)-.DELTA.1-Tetrahydrocannabinol', '(-)-.DELTA.9-Tetrahydrocannabinol', 'L-.delta.1-trans-Tetrahydrocannabinol', 'L-trans-.delta.9-Tetrahydrocannabinol', '(6aR,10aR)-6a,7,8,10a-Tetrahydro-6,6,9-trimethyl-3-pentyl-6H-dibenzo[b,d]pyran-1-ol', '(6aR-trans)-6a,7,8,10a-Tetrahydro-6,6,9-trimethyl-3-pentyl-6H-dibenzo(b,d)pyran-1-ol', '6H-dibenzo[b,d]pyran-1-ol, 6a,7,8,10a-tetrahydro-6,6,9-trimethyl-3-pentyl-, (6aR,10aR)-', '(6AR,10AR)-6,6,9-TRIMETHYL-3-PENTYL-6A,7,8,10A-TETRAHYDRO-6H-DIBENZO(B,D)PYRAN-1-OL', '(-)-.DELTA.9-trans-Tetrahydrocannabinol', '(-)-trans-.DELTA.9-Tetrahydrocannabinol', 'Marinol (TN)', 'DEA No. 7369', 'delta1-Tetrahydrocannabinol (VAN)', 'delta9-Tetrahydrocannabinol (VAN)', 'Dronabinol (USP/INN)', '.DELTA.1-Tetrahydrocannabinol', '9 ene Tetrahydrocannabinol', 'Tetrahydrocannabinol delta9', '(-)-trans-Delta9-THC', 'Cannabinol, .DELTA.1-tetrahydro-', '.DELTA.9-trans-Tetrahydrocannabinol', '(l)-delta1-Tetrahydrocannabinol', 'L-.delta.1-Tetrahydrocannabinol', '(-)-delta1-Tetrahydrocannabinol', 'delta9-trans-Tetrahydrocannabinol', 'trans-delta9-Tetrahydrocannabinol', '(6aR,10aR)-6,6,9-trimethyl-3-pentyl-6a,7,8,10a-tetrahydro-6H-benzo(c)chromen-1-ol', '(6aR-trans)-6a,7,8,10a-Tetrahydro-6,6,9-trimethyl-3-pentyl-6H-dibenzo[b,d]pyran-1-ol', 'CAT-310', 'L-trans-delta9-Tetrahydrocannabinol', '6H-Dibenzo[b,d]pyran-1-ol, 6a,7,8,10a-tetrahydro-6,6,9-trimethyl-3-pentyl-, (6aR-trans)-', 'DRG-0138', 'TCI', '14C-.DELTA.1-Tetrahydrocannabinol', 'trans-.DELTA.9-Tetrahydrocannabinol', '(-)-trans-Delta1-Tetrahydrocannabinol', '(-)-trans-delta9-Tetrahydrocannabinol', '.delta.-9-THC', '1-trans-delta(sup9)-tetrahydrocannabinol', 'Dronabinol (Synthetic)', '.delta.(sup9)-THC', '3ls4', 'DRONABINOL [INN]', '(-)-3,4-trans-Delta1-Tetrahydrocannabinol', '1-trans-.delta.(sup9)-tetrahydrocannabinol', 'DRONABINOL [HSDB]', 'DRONABINOL [USAN]', '(-)-.delta.(sup9)-trans-Tetrahydrocannabinol', 'DRONABINOL [VANDF]', 'Epitope ID:224552', 'SCHEMBL4609', 'AD313 component dronabinol', 'delta 1-Tetrahydrocannabinol', 'DRONABINOL [WHO-DD]', 'AD-313 component dronabinol', 'BIDD:GT0427', 'SCI-110 component dronabinol', 'GTPL2424', 'Cannabinol, tetrahydro- (6CI)', 'DRONABINOL [ORANGE BOOK]', 'BDBM60994', 'delta-Tetrahydrocannabinol (THC)', 'A04AD10', 'DTXSID001038830', 'US9416103, Delta9-THC', 'INT-0010', '(A+/-)-delta9-Tetrahydrocannabinol', 'Tox21_112616', 'BDBM50007391', 'PDSP2_000714', 'Cannabinol, Delta1-tetrahydro- (7CI)', 'DB00470', '(-)-delta 9-trans-Tetrahydrocannabinol', 'INT-0010/06', 'CAS-1972-08-3', '(-)-delta1-3,4-trans-Tetrahydrocannabinol', 'NS00000050', 'C06972', 'Cannabinol, 1-trans-.delta.(sup9)-tetrahydro-', 'D00306', 'Q190067', 'TETRAHYDROCANNABINOLS (-)-TRANS-delta9-FORM', '(-)-.DELTA.1-3,4-TRANS-TETRAHYDROCANNABINOL', '(-)-Delta9-THC (Dronabinol) 0.1 mg/ml in Methanol', '(-)-Delta9-THC (Dronabinol) 1.0 mg/ml in Methanol', '(-)-Delta-9-THC (Dronabinol) 5.0 mg/ml in Methanol', '(-)-trans-Delta-9-THC (Dronabinol), 100mg/ml in Ethanol', '(-)-trans-Delta-9-THC (Dronabinol), 10mg/ml in Ethanol', '(-)-trans-Delta-9-THC (Dronabinol), 1mg/ml in Ethanol', '(-)-trans-Delta-9-THC (Dronabinol), 50mg/ml in Ethanol', 'Delta9-Tetrahydrocannabinol 250 microg/mL in Acetonitrile', 'TETRAHYDROCANNABINOLS (-)-TRANS-.DELTA.9-FORM [MI]', '6H-Dibenzo[b, 6a,7,8,10a-tetrahydro-6,6,9-trimethyl-3-pentyl-', '(-)-delta 9-Tetrahydrocannabinol (delta9-THC) 1000 microg/mL in Methanol', '(-)-Delta9-Tetrahydrocannabinol (Delta9-THC) 100 microg/mL in Methanol', '(6aR,10aR)-6a,7,8,10a-Tetrahydro-6,6,9-trimethyl-3-pentyl-6H-dibenzo', '(6aR-trans)-6a,7,8,10a-Tetrahydro-6,6,9-trimethyl-3-pentyl-6H-dibenzo', '6,9-Trimethyl-3-pentyl-7,8,9,10-tetrahydro-6H-dibenzo[b,d]pyran-1-ol', '6H-Dibenzo[b, 6a,7,8,10a-tetrahydro-6,6,9-trimethyl-3-pentyl-, trans-', '(-)-(6aR,10aR)-6,6,9-trimethyl-3-pentyl-6a,7,8,10a-tetrahydro-6H-benzo[c]chromen-1-ol', '(-)-delta(sup 1)-3,4-trans-Tetrahydrocannabinol(l)-delta(sup 1)-Tetrahydrocannabinol', '(10R,10aR)-6,6,9-Trimethyl-3-pentyl-6a,7,8,10a-tetrahydro-6H-benzo[c]chromen-1-ol', '(6AR,10AR)-6,6,9-TRIMETHYL-3-PENTYL-6H,6AH,7H,8H,10AH-BENZO[C]ISOCHROMEN-1-OL', '(S)-6,6,9-Trimethyl-3-pentyl-6a,7,8,10a-tetrahydro-6H-benzo[c]chromen-1-ol', '6,6,9-Trimethyl-3-pentyl-6a,7,8,10a-tetrahydro-6H-benzo[c]chromen-1-ol(DeltaE-9-THC)', '6H-Dibenzo[b, 6a,7,8,10a-tetrahydro-6,6,9-trimethyl-3-pentyl-, (6aR-trans)-', 'Delta-9-Tetrahydrocannabinol, United States Pharmacopeia (USP) Reference Standard', '6,6,9-Trimethyl-3-pentyl-6a,7,8,10a-tetrahydro-6H-benzo[c]chromen-1-ol(delta9-THC(delta9-tetrahydrocannabinol))', '8,8-Dimethyl-11-methylene-5-pentyl-3,4,8a,9,10,11,12,12a-octahydro-2H,8H-1,7-dioxa-benzo[c]phenanthrene']\n"
     ]
    }
   ],
   "source": [
    "molecule = pcp.Compound.from_cid(16078)\n",
    "print(molecule.iupac_name)\n",
    "print(molecule.molecular_weight)\n",
    "print(molecule.molecular_formula)\n",
    "print(molecule.synonyms)"
   ]
  },
  {
   "cell_type": "code",
   "execution_count": 7,
   "id": "a487aaf2-dc60-4376-ab21-d7f852c72449",
   "metadata": {},
   "outputs": [
    {
     "data": {
      "application/3dmoljs_load.v0": "<div id=\"3dmolviewer_1739545564879359\"  style=\"position: relative; width: 680px; height: 250px;\">\n        <p id=\"3dmolwarning_1739545564879359\" style=\"background-color:#ffcccc;color:black\">3Dmol.js failed to load for some reason.  Please check your browser console for error messages.<br></p>\n        </div>\n<script>\n\nvar loadScriptAsync = function(uri){\n  return new Promise((resolve, reject) => {\n    //this is to ignore the existence of requirejs amd\n    var savedexports, savedmodule;\n    if (typeof exports !== 'undefined') savedexports = exports;\n    else exports = {}\n    if (typeof module !== 'undefined') savedmodule = module;\n    else module = {}\n\n    var tag = document.createElement('script');\n    tag.src = uri;\n    tag.async = true;\n    tag.onload = () => {\n        exports = savedexports;\n        module = savedmodule;\n        resolve();\n    };\n  var firstScriptTag = document.getElementsByTagName('script')[0];\n  firstScriptTag.parentNode.insertBefore(tag, firstScriptTag);\n});\n};\n\nif(typeof $3Dmolpromise === 'undefined') {\n$3Dmolpromise = null;\n  $3Dmolpromise = loadScriptAsync('https://cdnjs.cloudflare.com/ajax/libs/3Dmol/2.4.2/3Dmol-min.js');\n}\n\nvar viewer_1739545564879359 = null;\nvar warn = document.getElementById(\"3dmolwarning_1739545564879359\");\nif(warn) {\n    warn.parentNode.removeChild(warn);\n}\n$3Dmolpromise.then(function() {\nvar viewergrid_1739545564879359 = null;\nviewergrid_1739545564879359 = $3Dmol.createViewerGrid(document.getElementById(\"3dmolviewer_1739545564879359\"),{rows: 1, cols: 3, control_all: true},{backgroundColor:\"white\"});\nviewer_1739545564879359 = viewergrid_1739545564879359[0][0];\n$3Dmol.download(\"cid:3345\", viewergrid_1739545564879359[0][0], {}, function() {\n$3Dmol.download(\"cid:3345\", viewergrid_1739545564879359[0][1], {}, function() {\n$3Dmol.download(\"cid:3345\", viewergrid_1739545564879359[0][2], {}, function() {\nviewergrid_1739545564879359[0][0].zoomTo();viewergrid_1739545564879359[0][1].zoomTo();viewergrid_1739545564879359[0][2].zoomTo();\tviewergrid_1739545564879359[0][0].setStyle({\"line\": {\"linewidth\": 8}});\n\tviewergrid_1739545564879359[0][1].setStyle({\"stick\": {\"colorscheme\": \"cyanCarbon\"}});\n\tviewergrid_1739545564879359[0][2].setStyle({\"sphere\": {}});\n\tviewergrid_1739545564879359[0][0].setBackgroundColor(\"#ebf4fb\");\n\tviewergrid_1739545564879359[0][1].setBackgroundColor(\"#cda9fc\");\n\tviewergrid_1739545564879359[0][2].setBackgroundColor(\"#e6e6e6\");\nviewergrid_1739545564879359[0][2].render();\nviewergrid_1739545564879359[0][1].render();\nviewergrid_1739545564879359[0][0].render();\n})\n})\n})\n});\n</script>",
      "text/html": [
       "<div id=\"3dmolviewer_1739545564879359\"  style=\"position: relative; width: 680px; height: 250px;\">\n",
       "        <p id=\"3dmolwarning_1739545564879359\" style=\"background-color:#ffcccc;color:black\">3Dmol.js failed to load for some reason.  Please check your browser console for error messages.<br></p>\n",
       "        </div>\n",
       "<script>\n",
       "\n",
       "var loadScriptAsync = function(uri){\n",
       "  return new Promise((resolve, reject) => {\n",
       "    //this is to ignore the existence of requirejs amd\n",
       "    var savedexports, savedmodule;\n",
       "    if (typeof exports !== 'undefined') savedexports = exports;\n",
       "    else exports = {}\n",
       "    if (typeof module !== 'undefined') savedmodule = module;\n",
       "    else module = {}\n",
       "\n",
       "    var tag = document.createElement('script');\n",
       "    tag.src = uri;\n",
       "    tag.async = true;\n",
       "    tag.onload = () => {\n",
       "        exports = savedexports;\n",
       "        module = savedmodule;\n",
       "        resolve();\n",
       "    };\n",
       "  var firstScriptTag = document.getElementsByTagName('script')[0];\n",
       "  firstScriptTag.parentNode.insertBefore(tag, firstScriptTag);\n",
       "});\n",
       "};\n",
       "\n",
       "if(typeof $3Dmolpromise === 'undefined') {\n",
       "$3Dmolpromise = null;\n",
       "  $3Dmolpromise = loadScriptAsync('https://cdnjs.cloudflare.com/ajax/libs/3Dmol/2.4.2/3Dmol-min.js');\n",
       "}\n",
       "\n",
       "var viewer_1739545564879359 = null;\n",
       "var warn = document.getElementById(\"3dmolwarning_1739545564879359\");\n",
       "if(warn) {\n",
       "    warn.parentNode.removeChild(warn);\n",
       "}\n",
       "$3Dmolpromise.then(function() {\n",
       "var viewergrid_1739545564879359 = null;\n",
       "viewergrid_1739545564879359 = $3Dmol.createViewerGrid(document.getElementById(\"3dmolviewer_1739545564879359\"),{rows: 1, cols: 3, control_all: true},{backgroundColor:\"white\"});\n",
       "viewer_1739545564879359 = viewergrid_1739545564879359[0][0];\n",
       "$3Dmol.download(\"cid:3345\", viewergrid_1739545564879359[0][0], {}, function() {\n",
       "$3Dmol.download(\"cid:3345\", viewergrid_1739545564879359[0][1], {}, function() {\n",
       "$3Dmol.download(\"cid:3345\", viewergrid_1739545564879359[0][2], {}, function() {\n",
       "viewergrid_1739545564879359[0][0].zoomTo();viewergrid_1739545564879359[0][1].zoomTo();viewergrid_1739545564879359[0][2].zoomTo();\tviewergrid_1739545564879359[0][0].setStyle({\"line\": {\"linewidth\": 8}});\n",
       "\tviewergrid_1739545564879359[0][1].setStyle({\"stick\": {\"colorscheme\": \"cyanCarbon\"}});\n",
       "\tviewergrid_1739545564879359[0][2].setStyle({\"sphere\": {}});\n",
       "\tviewergrid_1739545564879359[0][0].setBackgroundColor(\"#ebf4fb\");\n",
       "\tviewergrid_1739545564879359[0][1].setBackgroundColor(\"#cda9fc\");\n",
       "\tviewergrid_1739545564879359[0][2].setBackgroundColor(\"#e6e6e6\");\n",
       "viewergrid_1739545564879359[0][2].render();\n",
       "viewergrid_1739545564879359[0][1].render();\n",
       "viewergrid_1739545564879359[0][0].render();\n",
       "})\n",
       "})\n",
       "})\n",
       "});\n",
       "</script>"
      ]
     },
     "metadata": {},
     "output_type": "display_data"
    },
    {
     "data": {
      "text/plain": [
       "<py3Dmol.view at 0x14e05f2c0>"
      ]
     },
     "execution_count": 7,
     "metadata": {},
     "output_type": "execute_result"
    }
   ],
   "source": [
    "# Visualize the aspirin in 3D\n",
    "\n",
    "import py3Dmol\n",
    "py3Dmol.view()\n",
    "view = py3Dmol.view(width = 680, height = 250, query ='cid:3345', viewergrid = (1,3), linked = True)\n",
    "\n",
    "view.setStyle({'line': {'linewidth': 8}}, viewer = (0,0))\n",
    "view.setStyle({'stick': {'colorscheme':'cyanCarbon'}}, viewer = (0,1))\n",
    "view.setStyle({'sphere': {}}, viewer = (0,2))\n",
    "\n",
    "view.setBackgroundColor('#ebf4fb', viewer = (0,0))\n",
    "view.setBackgroundColor('#cda9fc', viewer = (0,1))\n",
    "view.setBackgroundColor('#e6e6e6', viewer = (0,2))"
   ]
  },
  {
   "cell_type": "code",
   "execution_count": null,
   "id": "8f3751d8-7b8f-442e-adb5-b94072d60edc",
   "metadata": {},
   "outputs": [],
   "source": []
  }
 ],
 "metadata": {
  "kernelspec": {
   "display_name": "Python 3 (ipykernel)",
   "language": "python",
   "name": "python3"
  },
  "language_info": {
   "codemirror_mode": {
    "name": "ipython",
    "version": 3
   },
   "file_extension": ".py",
   "mimetype": "text/x-python",
   "name": "python",
   "nbconvert_exporter": "python",
   "pygments_lexer": "ipython3",
   "version": "3.12.2"
  }
 },
 "nbformat": 4,
 "nbformat_minor": 5
}
