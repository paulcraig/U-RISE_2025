{
 "cells": [
  {
   "cell_type": "markdown",
   "id": "89ae66cb-f067-47fa-9c5f-1a921751a800",
   "metadata": {
    "jp-MarkdownHeadingCollapsed": true
   },
   "source": [
    "# Getting Started with PubChemPy\n",
    "This notebook is designed to introduced you to PubChemPy, a library for working with [PubChem](https://www.example.com) resource. To use pubchempy, you'll need to either use the command\n",
    "\n",
    "```pip install pubchempy```\n",
    "\n",
    "on your command line or use the command\n",
    "\n",
    "```!pip install pubchempy```\n",
    "\n",
    "in the first coding cell in this notebook."
   ]
  },
  {
   "cell_type": "code",
   "execution_count": null,
   "id": "1c05cb04-7272-4231-b924-e1c5429a0f80",
   "metadata": {},
   "outputs": [],
   "source": [
    "!pip install pubchempy"
   ]
  },
  {
   "cell_type": "markdown",
   "id": "ccfff721-cdf4-4520-b36b-848627e50fd0",
   "metadata": {},
   "source": [
    "It's not enough to have it installed on your computer. You need to tell the Jupyter notebook to access the library."
   ]
  },
  {
   "cell_type": "code",
   "execution_count": null,
   "id": "8e9863c0-5311-4ed8-9818-3ddb589789a7",
   "metadata": {},
   "outputs": [],
   "source": [
    "import pubchempy as pcp"
   ]
  },
  {
   "cell_type": "markdown",
   "id": "374df2ac-2bcb-4a16-9071-904a670a6955",
   "metadata": {},
   "source": [
    "We are just going to look at a few things that you can do with PubChemPy, which accesses the [PubChem database](https://pubchem.ncbi.nlm.nih.gov/). We'll learn\n",
    "1. How to access a molecule using its chemical ID#.\n",
    "2. How to access a molecule by name\n",
    "3. Some of the things we can learn about the molecule once we have its chemical ID#\n",
    "4. How to visualize the molecule\n",
    "\n",
    "We'll start looking at a molecule called NAD+ that I worked with almost every day in graduate school. It looks like this and its compound ID# is 5892.\n",
    "\n",
    "![2D image of NAD+](images/NAD.png \"The 2D structure of redox cofactor NAD+\")"
   ]
  },
  {
   "cell_type": "code",
   "execution_count": null,
   "id": "43125c7e-712d-48c8-9cc2-103d2ddce541",
   "metadata": {},
   "outputs": [],
   "source": [
    "pcp.get_compounds('', 'name', record_type='3d') # insert a drug name in the first single quotes"
   ]
  },
  {
   "cell_type": "markdown",
   "id": "c51c3d7c-4f0d-4b0b-aac0-a9ee463de59e",
   "metadata": {},
   "source": [
    "Now we will use explore the contents of the compound object that can be extracted using the command\n",
    "\n",
    "```molecule = c.trait```\n",
    "\n",
    "where trait can be molecular_weight, molecular_formula, isomeric_smiles, xlogp, iupac_name, and synonyms. You can also select any trait from a menu if you type\n",
    "\n",
    "```print(molecule.<tab>)```\n",
    "\n",
    "where means to hit the tab kit so you can see all options. Try a few."
   ]
  },
  {
   "cell_type": "code",
   "execution_count": null,
   "id": "187eb77f-3a32-4b2d-8143-0e2493207a87",
   "metadata": {},
   "outputs": [],
   "source": [
    "molecule = pcp.Compound.from_cid() # Enter the cid inside the parentheses"
   ]
  },
  {
   "cell_type": "code",
   "execution_count": null,
   "id": "ab60f01e-c868-477a-a21e-ebf029018aa5",
   "metadata": {},
   "outputs": [],
   "source": [
    "print(molecule.)  # Use the tab key to find methods you can use and select one"
   ]
  },
  {
   "cell_type": "code",
   "execution_count": null,
   "id": "1a4139b3-8bc8-454d-a217-a9af03de8328",
   "metadata": {},
   "outputs": [],
   "source": [
    "# Execute this cell\n",
    "print(molecule.iupac_name)\n",
    "print(molecule.molecular_formula)\n",
    "\n",
    "# Now take away the pound sign from the last line and execute the cell again\n",
    "# print(molecule.synonyms)"
   ]
  },
  {
   "cell_type": "code",
   "execution_count": null,
   "id": "a487aaf2-dc60-4376-ab21-d7f852c72449",
   "metadata": {
    "scrolled": true
   },
   "outputs": [],
   "source": [
    "# Visualize the aspirin in 3D. This cell is complete, but you can try changing things\n",
    "\n",
    "import py3Dmol\n",
    "py3Dmol.view()\n",
    "view = py3Dmol.view(width = 680, height = 250, query ='cid:2244', viewergrid = (1,3), linked = True)\n",
    "\n",
    "view.setStyle({'line': {'linewidth': 8}}, viewer = (0,0))\n",
    "view.setStyle({'stick': {'colorscheme':'cyanCarbon'}}, viewer = (0,1))\n",
    "view.setStyle({'sphere': {}}, viewer = (0,2))\n",
    "\n",
    "view.setBackgroundColor('#ebf4fb', viewer = (0,0))\n",
    "view.setBackgroundColor('#cda9fc', viewer = (0,1))\n",
    "view.setBackgroundColor('#e6e6e6', viewer = (0,2))"
   ]
  },
  {
   "cell_type": "markdown",
   "id": "ac2beeae-a3a9-4558-ab1f-73367d4b7e11",
   "metadata": {},
   "source": [
    "## Lipinski's Rule of 5\n",
    "\n",
    "We can use PCP to get the values for Lipinski's rule of 5 for a compound in the PubChem database directly.\n",
    "- MW < 500\n",
    "- XLogP < 5\n",
    "- H Bond Donor Count < 5\n",
    "- H Bond Acceptor Count < 10\n",
    "\n",
    "This code enables us to get all of the data for one molecule."
   ]
  },
  {
   "cell_type": "code",
   "execution_count": null,
   "id": "f5cd3540-a36e-469b-85aa-308956d9300a",
   "metadata": {},
   "outputs": [],
   "source": [
    "# How could we make this more versatile?\n",
    "\n",
    "HBA = pcp.get_properties(\n",
    "  properties = 'HBondAcceptorCount',\n",
    "  identifier = \"aspirin\",\n",
    "  namespace = \"name\"\n",
    "  )\n",
    "HBD = pcp.get_properties(\n",
    "  properties = 'HBondDonorCount',\n",
    "  identifier = \"aspirin\",\n",
    "  namespace = \"name\"\n",
    "  )\n",
    "MW = pcp.get_properties(\n",
    "  properties = 'MolecularWeight',\n",
    "  identifier = \"aspirin\",\n",
    "  namespace = \"name\"\n",
    "  )\n",
    "XLP = pcp.get_properties(\n",
    "  properties = 'XlogP',\n",
    "  identifier = \"aspirin\",\n",
    "  namespace = \"name\"\n",
    "  )\n",
    "print(HBA, '\\n', HBD, '\\n', MW, '\\n', XLP)"
   ]
  },
  {
   "cell_type": "markdown",
   "id": "ca340881-c21c-4baf-aae9-c471a98005ce",
   "metadata": {},
   "source": [
    "## Looking for a better approach\n",
    "\n",
    "We can pull out the information, but we may want it in a particular format. So we'll declare some variables and go from there.\n",
    "\n",
    "In the next three cells, we'll look at the Lipinski Rule of 5 data for aspirin. Then we will see all of the properties that can be extracted with ```pcp.get_properties()```"
   ]
  },
  {
   "cell_type": "code",
   "execution_count": null,
   "id": "f1e9c977-25be-4776-82f0-98494c21dae7",
   "metadata": {},
   "outputs": [],
   "source": [
    "# Create a list variable to hold all of the properties you want to explore\n",
    "properties = ['HBondAcceptorCount', 'HBondDonorCount', 'MolecularWeight', 'XlogP']\n",
    "all_properties = ['MolecularFormula', 'MolecularWeight', 'CanonicalSMILES', 'IsomericSMILES', 'InChI', 'InChIKey', 'IUPACName', 'XLogP', 'ExactMass', 'MonoisotopicMass', 'TPSA', 'Complexity', 'Charge', 'HBondDonorCount', 'HBondAcceptorCount', 'RotatableBondCount', 'HeavyAtomCount', 'IsotopeAtomCount', 'AtomStereoCount', 'DefinedAtomStereoCount', 'UndefinedAtomStereoCount', 'BondStereoCount', 'DefinedBondStereoCount', 'UndefinedBondStereoCount', 'CovalentUnitCount', 'Volume3D', 'XStericQuadrupole3D', 'YStericQuadrupole3D', 'ZStericQuadrupole3D', 'FeatureCount3D', 'FeatureAcceptorCount3D', 'FeatureDonorCount3D', 'FeatureAnionCount3D', 'FeatureCationCount3D', 'FeatureRingCount3D', 'FeatureHydrophobeCount3D', 'ConformerModelRMSD3D', 'EffectiveRotorCount3D', 'ConformerCount3D']"
   ]
  },
  {
   "cell_type": "code",
   "execution_count": null,
   "id": "413400ce-93f2-4bd0-b8ee-772b3d92dc77",
   "metadata": {},
   "outputs": [],
   "source": [
    "import pandas as pd\n",
    "Lip5 = pcp.get_properties(properties, '', 'name', as_dataframe = True)\n",
    "Lip5"
   ]
  },
  {
   "cell_type": "code",
   "execution_count": null,
   "id": "a45893a8-a00d-4529-871b-b5ff7391da70",
   "metadata": {},
   "outputs": [],
   "source": [
    "AllProps = pcp.get_properties(all_properties, '', 'name', as_dataframe = True)\n",
    "AllProps"
   ]
  },
  {
   "cell_type": "markdown",
   "id": "a83d812a-4e50-4d29-b5ad-d9efa83ef687",
   "metadata": {},
   "source": [
    "## Collecting data for >1 drug\n",
    "\n",
    "You can do everything above just by looking at the [PubChem page for aspirin](https://pubchem.ncbi.nlm.nih.gov/#query=aspirin). We're going to step things up one level at a time. We are going to collect data for four more drugs, then collect them all into a single data structure, as dataframe."
   ]
  },
  {
   "cell_type": "code",
   "execution_count": null,
   "id": "b9a5da2f-ca24-4d14-a9f8-eca842eb67ab",
   "metadata": {},
   "outputs": [],
   "source": [
    "# Repeat this process for four more drugs\n",
    "pen = pcp.get_properties(properties, 'penicillin', 'name', as_dataframe = True)\n",
    "vioxx = pcp.get_properties(properties, 'vioxx', 'name', as_dataframe = True)\n",
    "strep = pcp.get_properties(properties, 'streptomycin', 'name', as_dataframe = True)\n",
    "doxy = pcp.get_properties(properties, 'doxycycline', 'name', as_dataframe = True)"
   ]
  },
  {
   "cell_type": "code",
   "execution_count": null,
   "id": "3b34b130-aa3d-4eff-9fda-5a6f2c66edca",
   "metadata": {},
   "outputs": [],
   "source": [
    "result_df = pd.concat([Lip5, pen, vioxx, strep, doxy], ignore_index=True)\n",
    "result_df"
   ]
  },
  {
   "cell_type": "code",
   "execution_count": null,
   "id": "50020d3e-a4a0-400d-8a73-acc19331bfe6",
   "metadata": {},
   "outputs": [],
   "source": [
    "# make a list of drug names to add into a new dataframe column\n",
    "drug_name = ['aspirin', 'penicillin', 'vioxx', 'streptomycin', 'doxycycline']\n",
    "\n",
    "# add the new column to the dataframe\n",
    "result_df['name'] = drug_name\n",
    "result_df"
   ]
  },
  {
   "cell_type": "code",
   "execution_count": null,
   "id": "af3aa773-0235-4336-9bb8-a0a836ccc2dc",
   "metadata": {},
   "outputs": [],
   "source": [
    "result_df = result_df[['name', 'MolecularWeight', 'XLogP', 'HBondDonorCount', 'HBondAcceptorCount']]\n",
    "result_df"
   ]
  },
  {
   "cell_type": "markdown",
   "id": "ad69a0fc-14c0-4f09-b1d2-b10750c7915e",
   "metadata": {},
   "source": [
    "## Automating the process with a loop\n",
    "\n",
    "One of my research students saw this at our Monday research meeting and suggested a loop to extend the process. You could easily to this for 100 or 1000 drugs."
   ]
  },
  {
   "cell_type": "code",
   "execution_count": null,
   "id": "948705d8-bc11-4165-b5b2-38b25effdfaf",
   "metadata": {},
   "outputs": [],
   "source": [
    "import pandas as pd\n",
    "import pubchempy as pcp\n",
    "\n",
    "properties = ['HBondAcceptorCount', 'HBondDonorCount', 'MolecularWeight', 'XlogP']\n",
    "druglist = ['aspirin', 'penicillin', 'vioxx', 'streptomycin', 'doxycycline']\n",
    "\n",
    "data = {}\n",
    "results = pcp.get_properties(properties, druglist[0], 'name')\n",
    "data['Drug Name'] = druglist[0]\n",
    "data.update(results[0])\n",
    "df = pd.DataFrame.from_dict([data]) # initializes the dataframe that can then be added to\n",
    "df\n",
    "\n",
    "for drug in druglist[1:len(druglist)]: # starts at 1 to avoid repeating the first drug\n",
    "    datatemp = {} # creates a temporary dictionary for this one drug in the loop\n",
    "    datatemp['Drug Name'] = drug # adds drug name to the dictionary of results so there is a column for drug name\n",
    "    results = pcp.get_properties(properties, drug, 'name')\n",
    "    datatemp.update(results[0]) # concatenates dictionaries\n",
    "    df2 = pd.DataFrame.from_dict([datatemp]) # creates temporary dataframe\n",
    "    df = pd.concat([df, df2], ignore_index = True)\n",
    "\n",
    "df\n"
   ]
  },
  {
   "cell_type": "markdown",
   "id": "6171d5b3-ce9b-4e6f-92c0-eb657057754e",
   "metadata": {},
   "source": [
    "## Downloading chemical structures with pubchempy\n",
    "\n",
    "\n",
    "pcp.download('PNG', 'aspirin.png', 'aspirin', 'name', overwrite=True, image_size='large')"
   ]
  },
  {
   "cell_type": "code",
   "execution_count": null,
   "id": "ee8e00b9-38a8-4625-ba7b-46372abbb048",
   "metadata": {},
   "outputs": [],
   "source": [
    "import pubchempy as pcp\n",
    "pcp.download('PNG', 'aspirin.png', 'aspirin', 'name', overwrite=True, image_size='large')"
   ]
  },
  {
   "cell_type": "markdown",
   "id": "8469e023-afcf-4ad9-8014-5b35dc5a44a9",
   "metadata": {},
   "source": [
    "## If we have time\n",
    "\n",
    "In exploring pubchempy, I realized that it does not make sense to create a dataframe with one line in it. Dataframes are created to hold lots of information. So we will explore this briefly."
   ]
  },
  {
   "cell_type": "code",
   "execution_count": null,
   "id": "4f05b858-caf6-4328-b5de-d8ddfc19dc96",
   "metadata": {},
   "outputs": [],
   "source": [
    "# We will expand the list of properties to include molecular formula and molecular weight.\n",
    "\n",
    "properties = ['MolecularFormula', 'MolecularWeight', 'HBondAcceptorCount', 'HBondDonorCount', 'MolecularWeight', 'XlogP']\n",
    "\n",
    "# Next we will do a property search for anything that is structurally related to the molecule codeine.\n",
    "\n",
    "codeine_smiles = 'CN1CC[C@]23[C@@H]4[C@H]1CC5=C2C(=C(C=C5)OC)O[C@H]3[C@H](C=C4)O'\n",
    "p = pcp.get_properties(properties, codeine_smiles, 'smiles', searchtype='superstructure', as_dataframe = True)\n",
    "p"
   ]
  },
  {
   "cell_type": "code",
   "execution_count": null,
   "id": "eb6dd956-3a85-4eb6-9d63-e1ffee96049f",
   "metadata": {},
   "outputs": [],
   "source": [
    "results = pcp.get_compounds('', '') # this time use the molecular formula for sugar and then use formula as the identifier type"
   ]
  },
  {
   "cell_type": "code",
   "execution_count": null,
   "id": "c4e55f29-99e0-470b-811f-bfa08e67016e",
   "metadata": {},
   "outputs": [],
   "source": [
    "sugars_df = pcp.get_properties(properties, 'C6H12O6', 'formula', as_dataframe = True)"
   ]
  },
  {
   "cell_type": "code",
   "execution_count": null,
   "id": "a25439cc-9be3-4ce2-bfca-f9cd37823202",
   "metadata": {},
   "outputs": [],
   "source": [
    "sugars_df"
   ]
  },
  {
   "cell_type": "code",
   "execution_count": null,
   "id": "67914b0f-8aa7-471e-9324-b395e3db5fe9",
   "metadata": {},
   "outputs": [],
   "source": []
  }
 ],
 "metadata": {
  "kernelspec": {
   "display_name": "Python 3 (ipykernel)",
   "language": "python",
   "name": "python3"
  },
  "language_info": {
   "codemirror_mode": {
    "name": "ipython",
    "version": 3
   },
   "file_extension": ".py",
   "mimetype": "text/x-python",
   "name": "python",
   "nbconvert_exporter": "python",
   "pygments_lexer": "ipython3",
   "version": "3.12.2"
  }
 },
 "nbformat": 4,
 "nbformat_minor": 5
}
