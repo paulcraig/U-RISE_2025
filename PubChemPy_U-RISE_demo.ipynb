{
 "cells": [
  {
   "cell_type": "markdown",
   "id": "2e08088c-11bc-4caa-b9b8-fab8f644ca6d",
   "metadata": {},
   "source": [
    "# PubChemPy for the Bioinformatics Club\n",
    "This notebooks is designed to introduced you to PubChemPy, a library for working with [PubChem](https://www.example.com) resource. To use pubchempy, you'll need to either use the command\n",
    "\n",
    "```pip install pubchempy```\n",
    "\n",
    "on your command line or use the command\n",
    "\n",
    "```!pip install pubchempy```\n",
    "\n",
    "in the first coding cell in this notebook."
   ]
  },
  {
   "cell_type": "code",
   "execution_count": null,
   "id": "99863971-34dd-421b-930e-8b15bc3a96b0",
   "metadata": {},
   "outputs": [],
   "source": [
    "!pip install pubchempy"
   ]
  },
  {
   "cell_type": "markdown",
   "id": "ea920a75-7599-4278-9f0d-6502a9b9c72c",
   "metadata": {},
   "source": [
    "Once you have installed pubchempy on your computer, you'll need to import it to use it. The standard abbreviation for pubchempy is pcp."
   ]
  },
  {
   "cell_type": "code",
   "execution_count": null,
   "id": "a96e4212-255e-414f-b25b-6e708d92ae2f",
   "metadata": {},
   "outputs": [],
   "source": [
    "import pubchempy as pcp"
   ]
  },
  {
   "cell_type": "markdown",
   "id": "a24273d1-edea-4787-b772-7e69a9006c7c",
   "metadata": {},
   "source": [
    "Now let's play with it a bit. We're going to learn a bit about the compound object that pubchempy creates, starting with NAD+, a compound I worked with every day in graduate school. In the next cell, use the \n",
    "\n",
    "```Compound.from_cid(compound#)```\n",
    "\n",
    "command to pull NAD+ from PubChem."
   ]
  },
  {
   "cell_type": "code",
   "execution_count": null,
   "id": "d6b1241a-5142-482d-979e-4b472d92f2ad",
   "metadata": {},
   "outputs": [],
   "source": [
    "molecule = pcp.Compound.from_cid(5287958)"
   ]
  },
  {
   "cell_type": "markdown",
   "id": "262d841e-32b3-4c2d-b985-05d9b40d7ac8",
   "metadata": {},
   "source": [
    "Now we will use explore the contents of the compound object that can be extracted using the command\n",
    "\n",
    "```molecule = c.trait```\n",
    "\n",
    "where trait can be molecular_weight, molecular_formula, isomeric_smiles, xlogp, iupac_name, and synonyms. You can also select any trait from a menu if you type\n",
    "\n",
    "```print(molecule.<tab>)```\n",
    "\n",
    "where <tab> means to hit the tab kit so you can see all options. Try a few."
   ]
  },
  {
   "cell_type": "code",
   "execution_count": null,
   "id": "ff906ce6-dc2c-45c5-967e-2139ecc8cd7a",
   "metadata": {},
   "outputs": [],
   "source": [
    "print(molecule.molecular_weight)"
   ]
  },
  {
   "cell_type": "code",
   "execution_count": null,
   "id": "d15cc9b4-92a5-49c7-8060-51910cfaf144",
   "metadata": {},
   "outputs": [],
   "source": [
    "print(molecule.molecular_formula)"
   ]
  },
  {
   "cell_type": "code",
   "execution_count": null,
   "id": "a782d34a-f886-4bc4-a884-6661b92e9df6",
   "metadata": {},
   "outputs": [],
   "source": [
    "print(molecule.isomeric_smiles)"
   ]
  },
  {
   "cell_type": "code",
   "execution_count": null,
   "id": "9d212ea5-93d1-4db8-8999-902900af76d5",
   "metadata": {},
   "outputs": [],
   "source": [
    "print(molecule.xlogp)"
   ]
  },
  {
   "cell_type": "code",
   "execution_count": null,
   "id": "371e50ea-e620-444b-807d-1cb9cc12404b",
   "metadata": {
    "scrolled": true
   },
   "outputs": [],
   "source": [
    "print(molecule.iupac_name)"
   ]
  },
  {
   "cell_type": "code",
   "execution_count": null,
   "id": "671048a6-efc7-4b6e-90a2-2d292f87cf6e",
   "metadata": {},
   "outputs": [],
   "source": [
    "print(molecule.synonyms)"
   ]
  },
  {
   "cell_type": "markdown",
   "id": "7e871018-ace9-412e-95a7-65688d6d71aa",
   "metadata": {},
   "source": [
    "What if you don't know the PubChem cid for your compound of interest? pubchempy has a get_compound function that addresses this."
   ]
  },
  {
   "cell_type": "code",
   "execution_count": null,
   "id": "79f0e973-8da4-47bd-a2a2-1a866910caac",
   "metadata": {},
   "outputs": [],
   "source": [
    "results = pcp.get_compounds('C21H27N7O14P2', 'formula')\n",
    "print(results)"
   ]
  },
  {
   "cell_type": "code",
   "execution_count": null,
   "id": "6fadaa26-e837-42ae-a1a0-631cc7f4c1f2",
   "metadata": {},
   "outputs": [],
   "source": [
    "pcp.get_compounds('tylenol', 'name', record_type='3d')"
   ]
  },
  {
   "cell_type": "code",
   "execution_count": null,
   "id": "c3878687-fdf6-455e-a22b-38de98b86e1c",
   "metadata": {},
   "outputs": [],
   "source": [
    "tylenol = pcp.Compound.from_cid(1983)\n",
    "print(tylenol.iupac_name)\n",
    "print(tylenol.molecular_weight)\n",
    "print(tylenol.molecular_formula)\n",
    "print(tylenol.synonyms)"
   ]
  },
  {
   "cell_type": "code",
   "execution_count": null,
   "id": "5a3125cf-0731-47db-b28b-9f9a3d067c75",
   "metadata": {},
   "outputs": [],
   "source": [
    "pcp.get_compounds('benzene', 'name')"
   ]
  },
  {
   "cell_type": "code",
   "execution_count": null,
   "id": "78d70164-55a7-4000-87ca-38bb65f05873",
   "metadata": {},
   "outputs": [],
   "source": [
    "benzene = pcp.Compound.from_cid(241)\n",
    "print(benzene.isomeric_smiles)"
   ]
  },
  {
   "cell_type": "markdown",
   "id": "0ab486f6-def9-4dac-9469-47c512235114",
   "metadata": {},
   "source": [
    "### Dataframes from PubChemPy\n",
    "\n",
    "You can import information from PubChem in the form of a pandas DataFrame."
   ]
  },
  {
   "cell_type": "code",
   "execution_count": null,
   "id": "5fb3e27e-cd6d-4682-a2ee-a90ba0a1053d",
   "metadata": {},
   "outputs": [],
   "source": [
    "df1 = pcp.get_compounds('C20H41Br', 'formula', as_dataframe=True)\n",
    "df2 = pcp.get_substances([9,99,999,9999], as_dataframe=True)\n",
    "df3 = pcp.get_properties(['isomeric_smiles', 'xlogp', 'rotatable_bond_count'], 'C20H41Br', 'formula', as_dataframe=True)"
   ]
  },
  {
   "cell_type": "code",
   "execution_count": null,
   "id": "a8fb6841-875e-452b-9fc1-18f2c8b78153",
   "metadata": {},
   "outputs": [],
   "source": [
    "df3.head()"
   ]
  },
  {
   "cell_type": "code",
   "execution_count": null,
   "id": "52d17020-76d6-460f-b93b-bbe5aa60b5a8",
   "metadata": {},
   "outputs": [],
   "source": [
    "df2.head()"
   ]
  },
  {
   "cell_type": "code",
   "execution_count": null,
   "id": "4e11f0a2-ebb9-48af-a384-04ad2bd3982c",
   "metadata": {},
   "outputs": [],
   "source": [
    "df1.head()"
   ]
  },
  {
   "cell_type": "code",
   "execution_count": null,
   "id": "b299b8d9-781a-4ed3-93fd-c9b21110d7a6",
   "metadata": {},
   "outputs": [],
   "source": [
    "# Download image files from PubChem\n",
    "\n",
    "pcp.download('PNG', 'images/asp.png', 'Aspirin', 'name', overwrite=True)\n",
    "pcp.download('PNG', 'images/acet.png', 'Acetaminophen', 'name', overwrite=True)\n",
    "pcp.download('CSV', 'data/s.csv', [1,2,3], operation='property/CanonicalSMILES,IsomericSMILES', overwrite=True)\n"
   ]
  },
  {
   "cell_type": "code",
   "execution_count": null,
   "id": "66b1ee5d-e975-49f8-a695-c5df230692ce",
   "metadata": {},
   "outputs": [],
   "source": [
    "#Display the aspirin image\n",
    "\n",
    "from IPython.display import Image, display\n",
    "\n",
    "image_paths = ['images/asp.png', 'images/acet.png']\n",
    "\n",
    "for image_path in image_paths:\n",
    "    display(Image(filename=image_path))"
   ]
  },
  {
   "cell_type": "code",
   "execution_count": null,
   "id": "b9063ea1-74c4-4490-a21b-fde2f2bf1faf",
   "metadata": {},
   "outputs": [],
   "source": [
    "cid = pcp.get_cids('acetaminophen', 'name')\n",
    "cid"
   ]
  },
  {
   "cell_type": "code",
   "execution_count": null,
   "id": "0b504778-fcf6-4787-902c-79bedf42284b",
   "metadata": {
    "scrolled": true
   },
   "outputs": [],
   "source": [
    "# Visualize the aspirin in 3D\n",
    "\n",
    "import py3Dmol\n",
    "py3Dmol.view()\n",
    "view = py3Dmol.view(width = 680, height = 250, query ='cid:3345', viewergrid = (1,3), linked = True)\n",
    "\n",
    "view.setStyle({'line': {'linewidth': 8}}, viewer = (0,0))\n",
    "view.setStyle({'stick': {'colorscheme':'cyanCarbon'}}, viewer = (0,1))\n",
    "view.setStyle({'sphere': {}}, viewer = (0,2))\n",
    "\n",
    "view.setBackgroundColor('#ebf4fb', viewer = (0,0))\n",
    "view.setBackgroundColor('#cda9fc', viewer = (0,1))\n",
    "view.setBackgroundColor('#e6e6e6', viewer = (0,2))"
   ]
  },
  {
   "cell_type": "code",
   "execution_count": null,
   "id": "5a2d7010-5c56-4f4c-b618-b69f711432d0",
   "metadata": {},
   "outputs": [],
   "source": []
  }
 ],
 "metadata": {
  "kernelspec": {
   "display_name": "Python 3 (ipykernel)",
   "language": "python",
   "name": "python3"
  },
  "language_info": {
   "codemirror_mode": {
    "name": "ipython",
    "version": 3
   },
   "file_extension": ".py",
   "mimetype": "text/x-python",
   "name": "python",
   "nbconvert_exporter": "python",
   "pygments_lexer": "ipython3",
   "version": "3.12.2"
  }
 },
 "nbformat": 4,
 "nbformat_minor": 5
}
