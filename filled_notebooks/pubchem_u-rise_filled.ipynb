{
 "cells": [
  {
   "cell_type": "markdown",
   "id": "89ae66cb-f067-47fa-9c5f-1a921751a800",
   "metadata": {},
   "source": [
    "# Getting Started with PubChemPy\n",
    "This notebooks is designed to introduced you to PubChemPy, a library for working with [PubChem](https://www.example.com) resource. To use pubchempy, you'll need to either use the command\n",
    "\n",
    "```pip install pubchempy```\n",
    "\n",
    "on your command line or use the command\n",
    "\n",
    "```!pip install pubchempy```\n",
    "\n",
    "in the first coding cell in this notebook."
   ]
  },
  {
   "cell_type": "code",
   "execution_count": null,
   "id": "1c05cb04-7272-4231-b924-e1c5429a0f80",
   "metadata": {},
   "outputs": [],
   "source": [
    "!pip install pubchempy"
   ]
  },
  {
   "cell_type": "markdown",
   "id": "ccfff721-cdf4-4520-b36b-848627e50fd0",
   "metadata": {},
   "source": [
    "It's not enough to have it installed on your computer. You need to tell the Jupyter notebook to access the library."
   ]
  },
  {
   "cell_type": "code",
   "execution_count": null,
   "id": "8e9863c0-5311-4ed8-9818-3ddb589789a7",
   "metadata": {},
   "outputs": [],
   "source": [
    "import pubchempy as pcp"
   ]
  },
  {
   "cell_type": "markdown",
   "id": "374df2ac-2bcb-4a16-9071-904a670a6955",
   "metadata": {},
   "source": [
    "We are just going to look at a few things that you can do with PubChemPy, which accesses the [PubChem database](https://pubchem.ncbi.nlm.nih.gov/). We'll learn\n",
    "1. How to access a molecule using its chemical ID#.\n",
    "2. How to access a molecule by name\n",
    "3. Some of the things we can learn about the molecule once we have its chemical ID#\n",
    "4. How to visualize the molecule\n",
    "\n",
    "We'll start looking at a molecule called NAD+ that I worked with almost every day in graduate school. It looks like this and its compound ID# is 5892.\n",
    "\n",
    "![2D image of NAD+](images/NAD.png \"The 2D structure of redox cofactor NAD+\")"
   ]
  },
  {
   "cell_type": "code",
   "execution_count": null,
   "id": "43125c7e-712d-48c8-9cc2-103d2ddce541",
   "metadata": {},
   "outputs": [],
   "source": [
    "pcp.get_compounds('aspirin', 'name', record_type='3d')"
   ]
  },
  {
   "cell_type": "code",
   "execution_count": null,
   "id": "187eb77f-3a32-4b2d-8143-0e2493207a87",
   "metadata": {},
   "outputs": [],
   "source": [
    "molecule = pcp.Compound.from_cid(2244)"
   ]
  },
  {
   "cell_type": "code",
   "execution_count": null,
   "id": "ab60f01e-c868-477a-a21e-ebf029018aa5",
   "metadata": {},
   "outputs": [],
   "source": [
    "print(molecule.molecular_weight)"
   ]
  },
  {
   "cell_type": "code",
   "execution_count": null,
   "id": "1a4139b3-8bc8-454d-a217-a9af03de8328",
   "metadata": {},
   "outputs": [],
   "source": [
    "print(molecule.iupac_name)\n",
    "print(molecule.molecular_formula)\n",
    "# print(molecule.synonyms)"
   ]
  },
  {
   "cell_type": "code",
   "execution_count": null,
   "id": "a487aaf2-dc60-4376-ab21-d7f852c72449",
   "metadata": {
    "scrolled": true
   },
   "outputs": [],
   "source": [
    "# Visualize the aspirin in 3D\n",
    "\n",
    "import py3Dmol\n",
    "py3Dmol.view()\n",
    "view = py3Dmol.view(width = 680, height = 250, query ='cid:2244', viewergrid = (1,3), linked = True)\n",
    "\n",
    "view.setStyle({'line': {'linewidth': 8}}, viewer = (0,0))\n",
    "view.setStyle({'stick': {'colorscheme':'cyanCarbon'}}, viewer = (0,1))\n",
    "view.setStyle({'sphere': {}}, viewer = (0,2))\n",
    "\n",
    "view.setBackgroundColor('#ebf4fb', viewer = (0,0))\n",
    "view.setBackgroundColor('#cda9fc', viewer = (0,1))\n",
    "view.setBackgroundColor('#e6e6e6', viewer = (0,2))"
   ]
  },
  {
   "cell_type": "markdown",
   "id": "ac2beeae-a3a9-4558-ab1f-73367d4b7e11",
   "metadata": {},
   "source": [
    "## Lipinski's Rule of 5\n",
    "\n",
    "We can use PCP to get the values for Lipinski's rule of 5 for a compound in the PubChem database directly."
   ]
  },
  {
   "cell_type": "code",
   "execution_count": null,
   "id": "f5cd3540-a36e-469b-85aa-308956d9300a",
   "metadata": {},
   "outputs": [],
   "source": [
    "# How could we make this more versatile?\n",
    "\n",
    "drugname = 'aspirin'  # then replace 'aspirin' with drugname in each of the identifier lines\n",
    "\n",
    "HBA = pcp.get_properties(\n",
    "  properties = 'HBondAcceptorCount',\n",
    "  identifier = \"aspirin\",\n",
    "  namespace = \"name\"\n",
    "  )\n",
    "HBD = pcp.get_properties(\n",
    "  properties = 'HBondDonorCount',\n",
    "  identifier = \"aspirin\",\n",
    "  namespace = \"name\"\n",
    "  )\n",
    "MW = pcp.get_properties(\n",
    "  properties = 'MolecularWeight',\n",
    "  identifier = \"aspirin\",\n",
    "  namespace = \"name\"\n",
    "  )\n",
    "XLP = pcp.get_properties(\n",
    "  properties = 'XlogP',\n",
    "  identifier = \"aspirin\",\n",
    "  namespace = \"name\"\n",
    "  )\n",
    "print(HBA, '\\n', HBD, '\\n', MW, '\\n', XLP)"
   ]
  },
  {
   "cell_type": "code",
   "execution_count": null,
   "id": "f1e9c977-25be-4776-82f0-98494c21dae7",
   "metadata": {},
   "outputs": [],
   "source": [
    "# Create a list variable to hold all of the properties you want to explore\n",
    "properties = ['HBondAcceptorCount', 'HBondDonorCount', 'MolecularWeight', 'XlogP']\n",
    "properties2 = ['MolecularFormula', 'MolecularWeight', 'CanonicalSMILES', 'IsomericSMILES', 'InChI', 'InChIKey', 'IUPACName', 'XLogP', 'ExactMass', 'MonoisotopicMass', 'TPSA', 'Complexity', 'Charge', 'HBondDonorCount', 'HBondAcceptorCount', 'RotatableBondCount', 'HeavyAtomCount', 'IsotopeAtomCount', 'AtomStereoCount', 'DefinedAtomStereoCount', 'UndefinedAtomStereoCount', 'BondStereoCount', 'DefinedBondStereoCount', 'UndefinedBondStereoCount', 'CovalentUnitCount', 'Volume3D', 'XStericQuadrupole3D', 'YStericQuadrupole3D', 'ZStericQuadrupole3D', 'FeatureCount3D', 'FeatureAcceptorCount3D', 'FeatureDonorCount3D', 'FeatureAnionCount3D', 'FeatureCationCount3D', 'FeatureRingCount3D', 'FeatureHydrophobeCount3D', 'ConformerModelRMSD3D', 'EffectiveRotorCount3D', 'ConformerCount3D']"
   ]
  },
  {
   "cell_type": "code",
   "execution_count": null,
   "id": "413400ce-93f2-4bd0-b8ee-772b3d92dc77",
   "metadata": {},
   "outputs": [],
   "source": [
    "import pandas as pd\n",
    "Lip5 = pcp.get_properties(properties, 'aspirin', 'name', as_dataframe = True)\n",
    "Lip5"
   ]
  },
  {
   "cell_type": "code",
   "execution_count": null,
   "id": "a45893a8-a00d-4529-871b-b5ff7391da70",
   "metadata": {},
   "outputs": [],
   "source": [
    "AllProps = pcp.get_properties(properties2, 'aspirin', 'name', as_dataframe = True)\n",
    "AllProps"
   ]
  },
  {
   "cell_type": "markdown",
   "id": "91b69d36-2c2b-4c33-88ad-71999682708b",
   "metadata": {},
   "source": [
    "## Collecting data for >1 drug\n",
    "\n",
    "You can do everything above just by looking at the [PubChem page for aspirin](https://pubchem.ncbi.nlm.nih.gov/#query=aspirin). We're going to step things up one level at a time. We are going to collect data for four more drugs, then collect them all into a single data structure, as dataframe."
   ]
  },
  {
   "cell_type": "code",
   "execution_count": null,
   "id": "b9a5da2f-ca24-4d14-a9f8-eca842eb67ab",
   "metadata": {},
   "outputs": [],
   "source": [
    "# Repeat this process for three more drugs\n",
    "pen = pcp.get_properties(properties, 'penicillin', 'name', as_dataframe = True)\n",
    "vioxx = pcp.get_properties(properties, 'vioxx', 'name', as_dataframe = True)\n",
    "strep = pcp.get_properties(properties, 'streptomycin', 'name', as_dataframe = True)\n",
    "doxy = pcp.get_properties(properties, 'doxycycline', 'name', as_dataframe = True)"
   ]
  },
  {
   "cell_type": "code",
   "execution_count": null,
   "id": "3b34b130-aa3d-4eff-9fda-5a6f2c66edca",
   "metadata": {},
   "outputs": [],
   "source": [
    "result_df = pd.concat([Lip5, pen, vioxx, strep, doxy], ignore_index=True)\n",
    "result_df"
   ]
  },
  {
   "cell_type": "code",
   "execution_count": null,
   "id": "50020d3e-a4a0-400d-8a73-acc19331bfe6",
   "metadata": {},
   "outputs": [],
   "source": [
    "# make a list of drug names to add into a new dataframe column\n",
    "drug_name = ['aspirin', 'penicillin', 'vioxx', 'streptomycin', 'doxycycline']\n",
    "\n",
    "# add a new column to the dataframe with the drug names\n",
    "result_df['name'] = drug_name\n",
    "result_df"
   ]
  },
  {
   "cell_type": "code",
   "execution_count": null,
   "id": "af3aa773-0235-4336-9bb8-a0a836ccc2dc",
   "metadata": {},
   "outputs": [],
   "source": [
    "# reorder the columns\n",
    "result_df = result_df[['name', 'MolecularWeight', 'XLogP', 'HBondDonorCount', 'HBondAcceptorCount']]\n",
    "result_df"
   ]
  },
  {
   "cell_type": "markdown",
   "id": "5255b5f6-a975-4fd2-bd42-680f99d57c55",
   "metadata": {},
   "source": [
    "## Automating the process with a loop\n",
    "\n",
    "One of my research students saw this at our Monday research meeting and suggested a loop to extend the process. You could easily to this for 100 or 1000 drugs."
   ]
  },
  {
   "cell_type": "code",
   "execution_count": null,
   "id": "3ff07f88-fd75-4687-89c0-852fe6ba41d4",
   "metadata": {},
   "outputs": [],
   "source": [
    "import pandas as pd\n",
    "import pubchempy as pcp\n",
    "\n",
    "properties = ['HBondAcceptorCount', 'HBondDonorCount', 'MolecularWeight', 'XlogP']\n",
    "druglist = ['aspirin', 'penicillin', 'vioxx', 'streptomycin', 'doxycycline']\n",
    "\n",
    "data = {}\n",
    "results = pcp.get_properties(properties, druglist[0], 'name')\n",
    "data['Drug Name'] = druglist[0]\n",
    "data.update(results[0])\n",
    "df = pd.DataFrame.from_dict([data]) # initializes the dataframe that can then be added to\n",
    "df\n",
    "\n",
    "for drug in druglist[1:len(druglist)]: # starts at 1 to avoid repeating the first drug\n",
    "    datatemp = {} # creates a temporary dictionary for this one drug in the loop\n",
    "    datatemp['Drug Name'] = drug # adds drug name to the dictionary of results so there is a column for drug name\n",
    "    results = pcp.get_properties(properties, drug, 'name')\n",
    "    datatemp.update(results[0]) # concatenates dictionaries\n",
    "    df2 = pd.DataFrame.from_dict([datatemp]) # creates temporary dataframe\n",
    "    df = pd.concat([df, df2], ignore_index = True)\n",
    "\n",
    "df\n"
   ]
  },
  {
   "cell_type": "markdown",
   "id": "93513693-15d8-4795-a6c2-a3d850ef4bee",
   "metadata": {},
   "source": [
    "## Downloading chemical structures with pubchempy\n"
   ]
  },
  {
   "cell_type": "code",
   "execution_count": null,
   "id": "90dd100e-c81f-46c7-bc64-015c329d9ae9",
   "metadata": {},
   "outputs": [],
   "source": [
    "pcp.download('PNG', 'aspirin.png', 'aspirin', 'name', overwrite=True, image_size='large')"
   ]
  },
  {
   "cell_type": "markdown",
   "id": "55a3077e-db39-42c0-b549-8e4138076e88",
   "metadata": {},
   "source": [
    "## If we have time\n",
    "\n",
    "In exploring pubchempy, I realized that it does not make sense to create a dataframe with one line in it. Dataframes are created to hold lots of information. So we will explore this briefly."
   ]
  },
  {
   "cell_type": "code",
   "execution_count": null,
   "id": "9e5a8627-a487-4de4-846c-35dc808efab8",
   "metadata": {},
   "outputs": [],
   "source": [
    "# We will expand the list of properties to include molecular formula and molecular weight.\n",
    "\n",
    "properties = ['MolecularFormula', 'MolecularWeight', 'HBondAcceptorCount', 'HBondDonorCount', 'MolecularWeight', 'XlogP']\n",
    "\n",
    "# Next we will do a property search for anything that is structurally related to the molecule codeine.\n",
    "\n",
    "codeine_smiles = 'CN1CC[C@]23[C@@H]4[C@H]1CC5=C2C(=C(C=C5)OC)O[C@H]3[C@H](C=C4)O'\n",
    "p = pcp.get_properties(properties, codeine_smiles, 'smiles', searchtype='superstructure', as_dataframe = True)\n",
    "p"
   ]
  },
  {
   "cell_type": "code",
   "execution_count": null,
   "id": "e385e391-2abb-44d5-a8e5-d5f1fbbdf989",
   "metadata": {},
   "outputs": [],
   "source": [
    "results = pcp.get_compounds('C6H12O6', 'formula') # this time use the molecular formula for sugar and then use formula as the identifier type"
   ]
  },
  {
   "cell_type": "code",
   "execution_count": null,
   "id": "b3ac4aea-42e6-48d5-94fe-9a069cc41421",
   "metadata": {},
   "outputs": [],
   "source": [
    "sugars_df = pcp.get_properties(properties, 'C6H12O6', 'formula', as_dataframe = True)"
   ]
  },
  {
   "cell_type": "code",
   "execution_count": null,
   "id": "1f066379-ae1d-49f9-8749-284398fad67b",
   "metadata": {},
   "outputs": [],
   "source": [
    "sugars_df"
   ]
  },
  {
   "cell_type": "code",
   "execution_count": null,
   "id": "509f8da1-4912-4e51-ab1e-ba4c271fcc48",
   "metadata": {},
   "outputs": [],
   "source": []
  }
 ],
 "metadata": {
  "kernelspec": {
   "display_name": "Python 3 (ipykernel)",
   "language": "python",
   "name": "python3"
  },
  "language_info": {
   "codemirror_mode": {
    "name": "ipython",
    "version": 3
   },
   "file_extension": ".py",
   "mimetype": "text/x-python",
   "name": "python",
   "nbconvert_exporter": "python",
   "pygments_lexer": "ipython3",
   "version": "3.12.2"
  }
 },
 "nbformat": 4,
 "nbformat_minor": 5
}
