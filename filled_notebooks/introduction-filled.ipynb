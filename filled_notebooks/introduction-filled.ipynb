{
 "cells": [
  {
   "cell_type": "markdown",
   "id": "12e95de9",
   "metadata": {},
   "source": [
    "Introduction\n",
    "=========="
   ]
  },
  {
   "cell_type": "markdown",
   "id": "f3903bc4",
   "metadata": {},
   "source": [
    "<div class=\"overview-this-is-a-title overview\">\n",
    "<p class=\"overview-title\">Overview</p>\n",
    "<p>Questions</p>\n",
    "    <ul>\n",
    "        <li> What is the basic syntax of the python programming language?\n",
    "    </ul>\n",
    "<p>Objectives:</p>\n",
    "    <ul>\n",
    "        <li> Assign values to variables \n",
    "        <li> Use the print function to check how the code is working\n",
    "        <li> Use multiple assignment to assign several variables at once\n",
    "        <li> Use a for loop to perform the same action on the items in a list\n",
    "        <li> Create a simple Michaelis-Menten plot</li>\n",
    "    </ul>\n",
    "</div>"
   ]
  },
  {
   "cell_type": "markdown",
   "id": "662d0b0c",
   "metadata": {},
   "source": [
    "## Getting Started\n",
    "Python is a computer programming language that has become ubiquitous in scientific programming.  Our lessons will run python *interactively* through a python interpreter inside a Jupyter notebook.  The [setup](setup.ipynb) page should have provided information on how to install and start a Jupyter notebook.  Everything included in a code block is something you could type into your python interpreter and evaluate.\n",
    "\n",
    "### Setting up your Jupyter notebooks\n",
    "In the [setup](setup.ipynb), you learned how to start a Jupyter notebook. Now, we will use the notebook to execute Python code. Jupyter notebooks are divided into cells. You run a Jupyter notebook one cell at a time. To execute a cell, click inside the cell and press `shift+enter`.\n",
    "\n",
    "In the upper left corner, click where it says \"Untitled\" and change the name to \"MolSSI Workshop\". We have now changed the name of the Jupyter Notebook.\n",
    "\n",
    "Jupyter notebooks allow us to also use something called **markdown** in some cells. We can use markdown to write descriptions about our notebooks for others to read. It's a good practice to have your first cell be markdown to explain the purpose of the notebook. Let's do that in our first cell. Click inside the first cell, then on the top of the screen select `Cell->Cell Type->Markdown` (shown below).\n",
    "\n",
    "<img src=\"https://github.com/MolSSI-Education/python_scripting_cms/blob/gh-pages/fig/lesson01_fig1.png?raw=true\">\n",
    "\n",
    "Now, return to the cell and type the following:\n",
    "\n",
    "```{eval-rst}\n",
    ".. code-block::\n",
    "\n",
    "    # MolSSI Workshop\n",
    "    ## Introduction\n",
    "\n",
    "    This lesson covers Python basics like variable creation \n",
    "    and assignment and using the Jupyter notebook\n",
    "```\n",
    "\n"
   ]
  },
  {
   "cell_type": "markdown",
   "id": "6bea614a",
   "metadata": {},
   "source": [
    "In Markdown, we create headers using a single `#` sign. Using two (`##`) creates a subheader. After typing this into a cell, press `shift+enter` to evaluate. Now your notebook should look like the following.\n",
    "\n",
    "<img src=\"https://github.com/MolSSI-Education/python_scripting_cms/blob/gh-pages/fig/lesson01_fig2.png?raw=true\">\n",
    "\n",
    "Now that our notebook is set-up, we're ready to start learning some Python!"
   ]
  },
  {
   "cell_type": "markdown",
   "id": "b9e5ddc9",
   "metadata": {},
   "source": [
    "## One: Assigning variables and data types\n",
    "\n",
    "Any python interpreter can work just like a calculator.  This is not very useful. Type the following into the next cell of your Jupyter notebook."
   ]
  },
  {
   "cell_type": "code",
   "execution_count": null,
   "id": "a3181b3f",
   "metadata": {},
   "outputs": [],
   "source": [
    "7 + 3"
   ]
  },
  {
   "cell_type": "markdown",
   "id": "33a76937",
   "metadata": {},
   "source": [
    "## Two: Using variables for a calculation\n",
    "\n",
    "Here, Python has performed a calculation for us. To save this value, or other values, we assign them to a variable for later use. The syntax for assigning variables is the following:\n",
    "\n",
    "```python\n",
    "variable_name = variable_value\n",
    "```\n",
    "\n",
    "Let's see this in action with a calculation. Type the following into the next cell of your Jupyter notebook."
   ]
  },
  {
   "cell_type": "code",
   "execution_count": null,
   "id": "48343ae6",
   "metadata": {},
   "outputs": [],
   "source": [
    "# Calculations using the Michaelis-Menten Equation\n",
    "Km =  15.0               # enter the Km = 15 micromolar\n",
    "Vmax =   100.0           # enter the Vmax = 100.0 nanomoles/sec\n",
    "substrate_concentration = 8.0                  # enter the substrate concentration as 8.0 micromolar\n",
    "velocity = Vmax * substrate_concentration/(Km + substrate_concentration)    # Michaelis-Menten equation"
   ]
  },
  {
   "cell_type": "markdown",
   "id": "51e86e6a",
   "metadata": {},
   "source": [
    "## Three: Seeing your results\n",
    "\n",
    "Notice several things about this code.  You can use `#` to add comments to your code, both at the start of a line and in the middle of the line (then the rest of the line is a comment).  The computer does not do anything with these comments.  They have been used here to remind the user what units are used for each of their values. Comments are also often used to explain what the code is doing or leave information for future people who might use the code.  \n",
    "\n",
    "When choosing variable names, you should choose informative names so that someone reading your code can tell what they represent.  Naming a variable temp or temperature is much more informative than naming that variable t.\n",
    "\n",
    "We can now access any of the variables from other cells. Let's print the value that we calculated. In the next cell,"
   ]
  },
  {
   "cell_type": "code",
   "execution_count": null,
   "id": "925a7b91",
   "metadata": {},
   "outputs": [],
   "source": [
    "print(velocity)"
   ]
  },
  {
   "cell_type": "markdown",
   "id": "ff5749be",
   "metadata": {},
   "source": [
    "## Four: Creating and Using Lists\n",
    "\n",
    "Another common data structure in python is the list.  Lists can be used to group several values or variables together, and are declared using square brackets \\[_\\]. **Python assigns special meanings to square brackets \\[\\], parentheses () and curly brackets {}, so you must be very careful with these characters.** List values are separated by commas. Python has several built in functions which can be used on lists. The built-in function `len` can be used to determine the length of a list. This code block also demonstrates how to print multiple variables."
   ]
  },
  {
   "cell_type": "code",
   "execution_count": null,
   "id": "6238a4ec",
   "metadata": {},
   "outputs": [],
   "source": [
    "# This is a list\n",
    "substrate_concs = [1.0, 2.0, 3.0, 4.0, 6.0, 8.0, 10.0, 15.0, 20.0, 30.0, 50.0, 75.0, 100.0] #micromolar\n",
    "# I can determine its length\n",
    "s_length = len(substrate_concs)  # enter the name of the list variable\n",
    "# Print the length of the list\n",
    "print('This list contains', s_length, 'substrate concentrations')\n",
    "print(substrate_concs)"
   ]
  },
  {
   "cell_type": "markdown",
   "id": "88c00644",
   "metadata": {},
   "source": [
    "## Five: Repeating an operation many times: for loops\n",
    "Often, you will want to do something to every element of a list.  The structure\n",
    "to do this is called a `for` loop.  The general structure of a `for` loop is\n",
    "```python\n",
    "for variable in list:\n",
    "    do things using variable\n",
    "```\n",
    "\n",
    "Indentation is very important in python.  There is nothing like an `end` or `exit` statement that tells you that you are finished with the loop.  The indentation shows you what statements are in the loop.  Let's use a loop to calculate initial velocities for all the substrate concentration in our S list. "
   ]
  },
  {
   "cell_type": "code",
   "execution_count": null,
   "id": "227deec0",
   "metadata": {},
   "outputs": [],
   "source": [
    "substrate_concs = [1.0, 2.0, 3.0, 4.0, 6.0, 8.0, 10.0, 15.0, 20.0, 30.0, 50.0, 75.0, 100.0]\n",
    "for number in substrate_concs:\n",
    "    velocity = Vmax * number / (Km + number)\n",
    "    print(velocity)"
   ]
  },
  {
   "cell_type": "markdown",
   "id": "db4b720f",
   "metadata": {},
   "source": [
    "## Six: Capturing and Using Calculated Data\n",
    "Now we need to assign these calculated values to a variable of type list."
   ]
  },
  {
   "cell_type": "code",
   "execution_count": null,
   "id": "60a98e11",
   "metadata": {},
   "outputs": [],
   "source": [
    "velocities = []\n",
    "substate_concs = [1.0, 2.0, 3.0, 4.0, 6.0, 8.0, 10.0, 15.0, 20.0, 30.0, 50.0, 75.0, 100.0]\n",
    "for number in substrate_concs:\n",
    "    V = Vmax * number / (Km + number)\n",
    "    velocities.append(V)\n",
    "    \n",
    "print(velocities)"
   ]
  },
  {
   "cell_type": "markdown",
   "id": "fcec2c38-f6e7-4858-926d-9f3197468269",
   "metadata": {},
   "source": [
    "## Seven: Plotting your Data\n",
    "\n",
    "Now we are going to use a new library `matplotlib.pyplot` to plot the data"
   ]
  },
  {
   "cell_type": "code",
   "execution_count": null,
   "id": "89eaa2c2-a9c1-4462-b093-962e5a3301bf",
   "metadata": {},
   "outputs": [],
   "source": [
    "import matplotlib.pyplot as plt"
   ]
  },
  {
   "cell_type": "code",
   "execution_count": null,
   "id": "e5c3be45-3aa7-4e6d-817d-c46f125726ef",
   "metadata": {},
   "outputs": [],
   "source": [
    "xdata = substrate_concs\n",
    "ydata = velocities\n",
    "plt.figure(figsize = (10,5)) # set the size of the figure\n",
    "plt.scatter(xdata, ydata) # scatter plot of the data points\n",
    "plt.plot(xdata, ydata, '-') # connect the points"
   ]
  },
  {
   "cell_type": "code",
   "execution_count": null,
   "id": "0db30c5e",
   "metadata": {},
   "outputs": [],
   "source": []
  }
 ],
 "metadata": {
  "kernelspec": {
   "display_name": "Python 3 (ipykernel)",
   "language": "python",
   "name": "python3"
  },
  "language_info": {
   "codemirror_mode": {
    "name": "ipython",
    "version": 3
   },
   "file_extension": ".py",
   "mimetype": "text/x-python",
   "name": "python",
   "nbconvert_exporter": "python",
   "pygments_lexer": "ipython3",
   "version": "3.11.3"
  }
 },
 "nbformat": 4,
 "nbformat_minor": 5
}
